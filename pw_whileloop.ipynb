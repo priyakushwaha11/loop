{
 "cells": [
  {
   "cell_type": "code",
   "execution_count": 2,
   "id": "1441e5c0",
   "metadata": {},
   "outputs": [],
   "source": [
    "\n",
    "# a = 4\n",
    "\n",
    "# a = 4\n",
    "# a\n",
    "\n",
    "# a\n",
    "# 4\n",
    "\n",
    "# p= '0','1','2','3','4','5','6','7','8','priya'\n",
    "\n",
    "# ​\n",
    "# p= '0','1','2','3','4','5','6','7','8','priya'\n",
    "# p\n",
    "# ('0', '1', '2', '3', '4', '5', '6', '7', '8', 'priya')\n",
    "# type(p)\n",
    "# tuple\n",
    "# p1 = [1,2,3,4,5,6,7,8]\n",
    "# type(p1)\n",
    "# list\n",
    "# p1.append\n",
    "# <function list.append(object, /)>\n",
    "# p1.extend([8,8,8,8])\n",
    "# p1.insert(1,\"kush\")\n",
    "# p1\n",
    "# [1, 'kush', 2, 3, 4, 5, 6, 7, 8, 8, 8, 8, 8]\n",
    "# p1.insert(2,[0,0,0])\n",
    "# p1\n",
    "# [1, 'kush', [0, 0, 0], 2, 3, 4, 5, 6, 7, 8, 8, 8, 8, 8]\n",
    "# p1.insert(3,[0,0,0])\n",
    "# p1\n",
    "# [1, 'kush', [0, 0, 0], [0, 0, 0], 2, 3, 4, 5, 6, 7, 8, 8, 8, 8, 8]\n",
    "# p1.insert(3,[0,0,0])\n",
    "# p1\n",
    "# [1, 'kush', [0, 0, 0], [0, 0, 0], [0, 0, 0], 2, 3, 4, 5, 6, 7, 8, 8, 8, 8, 8]\n",
    "# p1.insert(-0,[98])\n",
    "# p1\n",
    "# [[98],\n",
    "#  1,\n",
    "#  'kush',\n",
    "#  [0, 0, 0],\n",
    "#  [0, 0, 0],\n",
    "#  [0, 0, 0],\n",
    "#  2,\n",
    "#  3,\n",
    "#  4,\n",
    "#  5,\n",
    "#  6,\n",
    "#  7,\n",
    "#  8,\n",
    "#  8,\n",
    "#  8,\n",
    "#  8,\n",
    "#  8]\n",
    "# 1.pop()\n",
    "\n",
    "# p1.pop()\n",
    "# 8\n",
    "# p1.pop()\n",
    "# 8\n",
    "# p1.pop()\n",
    "# 8\n",
    "# p1.pop()\n",
    "# 8\n",
    "# p1.pop()\n",
    "# 8\n",
    "# p1.pop()\n",
    "# 7\n",
    "# p1.pop(2)\n",
    "# 'kush'\n",
    "# p1.remove(4)\n",
    "# p1\n",
    "# [[98], 1, [0, 0, 0], [0, 0, 0], [0, 0, 0], 2, 3, 5, 6]\n",
    "# p1[2].remove(0)\n",
    "# p1\n",
    "# [[98], 1, [0, 0], [0, 0, 0], [0, 0, 0], 2, 3, 5, 6]\n",
    "# ​\n",
    "# ​\n",
    "# ​\n",
    "# ​\n",
    "# ​\n",
    "# p1\n",
    "# [[98], 1, [0, 0], [0, 0, 0], [0, 0, 0], 2, 3, 5, 6]\n",
    "# p2 = {1.,2,3,4}\n",
    "# p2\n",
    "# {1.0, 2, 3, 4}\n",
    "# type(p2)\n",
    "# set\n",
    "# p3 = {}\n",
    "# type(p3)\n",
    "# dict\n",
    "# p4 = {'k' : \"priya\"}\n",
    "# p4\n",
    "# {'k': 'priya'}\n",
    "# p5 = {1234:\"kush\"}\n",
    "# p5\n",
    "# {1234: 'kush'}\n",
    "# p5[1234]\n",
    "# 'kush'\n",
    "# p6 = {'name' : \"priya\",'mail_id' :\" priyakushwaha@gmail.com\",'name' : \"rajni\",'hobby': \"reading\",'game':\"indoor game\"}\n",
    "# p6['name']\n",
    "# 'rajni'\n",
    "# p6\n",
    "# {'name': 'rajni',\n",
    "#  'mail_id': ' priyakushwaha@gmail.com',\n",
    "#  'hobby': 'reading',\n",
    "#  'game': 'indoor game'}\n",
    "# p6['bro']= [\"gyan\",\"prakash\"]\n",
    "# p6\n",
    "# {'name': 'rajni',\n",
    "#  'mail_id': ' priyakushwaha@gmail.com',\n",
    "#  'hobby': 'reading',\n",
    "#  'game': 'indoor game',\n",
    "#  'bro': ['gyan', 'prakash']}\n",
    "# p6.keys()\n",
    "# dict_keys(['name', 'mail_id', 'hobby', 'game', 'bro'])\n",
    "# list(p6.keys())\n",
    "# ['name', 'mail_id', 'hobby', 'game', 'bro']\n",
    "# list(p6.items())\n",
    "# [('name', 'rajni'),\n",
    "#  ('mail_id', ' priyakushwaha@gmail.com'),\n",
    "#  ('hobby', 'reading'),\n",
    "#  ('game', 'indoor game'),\n",
    "#  ('bro', ['gyan', 'prakash'])]\n",
    "# list(p6.values())\n",
    "# ['rajni',\n",
    "#  ' priyakushwaha@gmail.com',\n",
    "#  'reading',\n",
    "#  'indoor game',\n",
    "#  ['gyan', 'prakash']]\n",
    "# p6.pop('name')\n",
    "# 'rajni'\n",
    "# p6.popitem()\n",
    "# ('bro', ['gyan', 'prakash'])\n",
    "# p6\n",
    "# {'mail_id': ' priyakushwaha@gmail.com',\n",
    "#  'hobby': 'reading',\n",
    "#  'game': 'indoor game'}\n",
    "# marks = int (input (\"enter marks\"))\n",
    "# if marks >= 80:\n",
    "#     print (\"you will be a part of A batch\")\n",
    "# elif marks >= 60 and marks < 80:\n",
    "#     print(\"you will be a part of A1 batch\")\n",
    "# elif marks >= 40 and marks < 60:\n",
    "#     print(\"you will be a part of A2 batch\")\n",
    "# else : \n",
    "#     print(\"you will be a part of A3\")\n",
    "# enter marks9\n",
    "# you will be a part of A3\n",
    "# k1 = [1,2,3,3,4,5,6,7,8,9,]\n",
    "# k1\n",
    "# [1, 2, 3, 3, 4, 5, 6, 7, 8, 9]\n",
    "# k1[0] + 1\n",
    "# 2\n",
    "# k1.append(k1[0] + 1)\n",
    "# k1\n",
    "# [1, 2, 3, 3, 4, 5, 6, 7, 8, 9, 2]\n",
    "# k1[2] + 1\n",
    "# 4\n",
    "# k1.append(k1[2] + 1)\n",
    "# k1\n",
    "# [1, 2, 3, 3, 4, 5, 6, 7, 8, 9, 2, 4]\n",
    "# k2 = []\n",
    "# for priya in k1:\n",
    "#     print (priya + 1)\n",
    "#     k2.append\n",
    "# 2\n",
    "# 3\n",
    "# 4\n",
    "# 4\n",
    "# 5\n",
    "# 6\n",
    "# 7\n",
    "# 8\n",
    "# 9\n",
    "# 10\n",
    "# 3\n",
    "# 5\n",
    "# k1\n",
    "# [1, 2, 3, 3, 4, 5, 6, 7, 8, 9, 2, 4]\n",
    "# k2\n",
    "# []\n",
    "# k1 = [1,2,3,3,4,6,6,7,8,9,\"priya\",\"kushwaha\",3453,2.35,\"rajni\"]\n",
    "# k2_num = []\n",
    "# k3_str = []\n",
    "# for i in k1 : \n",
    "#     if type (i) == int or type (i) == float:\n",
    "#         k2_num.append(i)\n",
    "#     else :\n",
    "#         k3_str.append(i)\n",
    "    \n",
    "# k2_num\n",
    "# [1, 2, 3, 3, 4, 6, 6, 7, 8, 9, 3453, 2.35]\n",
    "# k3_str\n",
    "# ['priya', 'kushwaha', 'rajni']\n",
    "# 3rd February\n",
    "# a = 1 \n",
    "# ​\n",
    "# while a <= 10 :\n",
    "#     print (a)\n",
    "    \n",
    "#     a = a+1\n",
    "# 1\n",
    "# 2\n",
    "# 3\n",
    "# 4\n",
    "# 5\n",
    "# 6\n",
    "# 7\n",
    "# 8\n",
    "# 9\n",
    "# 10\n",
    "# p = 5\n",
    "# ​\n",
    "# while p <= 100 :\n",
    "#     print (p)\n",
    "    \n",
    "#     p = p+5\n",
    "# 5\n",
    "# 10\n",
    "# 15\n",
    "# 20\n",
    "# 25\n",
    "# 30\n",
    "# 35\n",
    "# 40\n",
    "# 45\n",
    "# 50\n",
    "# 55\n",
    "# 60\n",
    "# 65\n",
    "# 70\n",
    "# 75\n",
    "# 80\n",
    "# 85\n",
    "# 90\n",
    "# 95\n",
    "# 100\n",
    "   \n"
   ]
  },
  {
   "cell_type": "code",
   "execution_count": 11,
   "id": "46d32dc0",
   "metadata": {},
   "outputs": [
    {
     "name": "stdout",
     "output_type": "stream",
     "text": [
      "9\n",
      "18\n",
      "27\n",
      "36\n",
      "45\n",
      "54\n",
      "63\n",
      "72\n",
      "81\n",
      "90\n"
     ]
    }
   ],
   "source": [
    "a = 9\n",
    "while a <= 90:\n",
    "    print (a)\n",
    "    a = a+9"
   ]
  },
  {
   "cell_type": "code",
   "execution_count": null,
   "id": "5fefbe10",
   "metadata": {},
   "outputs": [],
   "source": [
    "p = 10\n",
    "\n",
    "while p <= 100:\n",
    "    print (p)\n",
    "    p = p+10"
   ]
  },
  {
   "cell_type": "code",
   "execution_count": 1,
   "id": "12173d73",
   "metadata": {},
   "outputs": [],
   "source": [
    "p = [1,3,4,5,6,7,8]"
   ]
  },
  {
   "cell_type": "code",
   "execution_count": 2,
   "id": "bc9a3909",
   "metadata": {},
   "outputs": [
    {
     "data": {
      "text/plain": [
       "list"
      ]
     },
     "execution_count": 2,
     "metadata": {},
     "output_type": "execute_result"
    }
   ],
   "source": [
    "type(p)"
   ]
  },
  {
   "cell_type": "code",
   "execution_count": 3,
   "id": "56a1a7fe",
   "metadata": {},
   "outputs": [
    {
     "data": {
      "text/plain": [
       "[1, 3, 4, 5, 6, 7, 8]"
      ]
     },
     "execution_count": 3,
     "metadata": {},
     "output_type": "execute_result"
    }
   ],
   "source": [
    "p"
   ]
  },
  {
   "cell_type": "code",
   "execution_count": 9,
   "id": "cb897793",
   "metadata": {},
   "outputs": [],
   "source": [
    "p =  [1,2,3,4,5,6,7,8,9,10,11,12,13,14,15,16,17,18,19,20,21]\n",
    "p1 = []\n",
    "for i in p :\n",
    "    p1.append(i**2)"
   ]
  },
  {
   "cell_type": "code",
   "execution_count": 10,
   "id": "4ff2091b",
   "metadata": {
    "collapsed": true
   },
   "outputs": [
    {
     "data": {
      "text/plain": [
       "[1,\n",
       " 4,\n",
       " 9,\n",
       " 16,\n",
       " 25,\n",
       " 36,\n",
       " 49,\n",
       " 64,\n",
       " 81,\n",
       " 100,\n",
       " 121,\n",
       " 144,\n",
       " 169,\n",
       " 196,\n",
       " 225,\n",
       " 256,\n",
       " 289,\n",
       " 324,\n",
       " 361,\n",
       " 400,\n",
       " 441]"
      ]
     },
     "execution_count": 10,
     "metadata": {},
     "output_type": "execute_result"
    }
   ],
   "source": [
    "p1"
   ]
  },
  {
   "cell_type": "code",
   "execution_count": 4,
   "id": "b708be49",
   "metadata": {},
   "outputs": [
    {
     "data": {
      "text/plain": [
       "[1, 3, 4, 5, 6, 7, 8]"
      ]
     },
     "execution_count": 4,
     "metadata": {},
     "output_type": "execute_result"
    }
   ],
   "source": [
    "p"
   ]
  },
  {
   "cell_type": "code",
   "execution_count": 5,
   "id": "76fd825a",
   "metadata": {
    "scrolled": true
   },
   "outputs": [
    {
     "data": {
      "text/plain": [
       "[1, 9, 16, 25, 36, 49, 64]"
      ]
     },
     "execution_count": 5,
     "metadata": {},
     "output_type": "execute_result"
    }
   ],
   "source": [
    "[i**2 for i in p]"
   ]
  },
  {
   "cell_type": "code",
   "execution_count": 6,
   "id": "e12da20e",
   "metadata": {},
   "outputs": [
    {
     "data": {
      "text/plain": [
       "[4, 6, 8]"
      ]
     },
     "execution_count": 6,
     "metadata": {},
     "output_type": "execute_result"
    }
   ],
   "source": [
    "[i for i in p if i % 2 ==0]\n"
   ]
  },
  {
   "cell_type": "code",
   "execution_count": 11,
   "id": "91d22777",
   "metadata": {},
   "outputs": [],
   "source": [
    "p1 = [\"priya \",\"kumari\",\"rajni\",\"gyan\",\"prakash\",\"kushwaha\"]"
   ]
  },
  {
   "cell_type": "code",
   "execution_count": 12,
   "id": "e0ef8cd8",
   "metadata": {},
   "outputs": [
    {
     "data": {
      "text/plain": [
       "['priya ', 'kumari', 'rajni', 'gyan', 'prakash', 'kushwaha']"
      ]
     },
     "execution_count": 12,
     "metadata": {},
     "output_type": "execute_result"
    }
   ],
   "source": [
    "p1"
   ]
  },
  {
   "cell_type": "code",
   "execution_count": 13,
   "id": "a0c94fb6",
   "metadata": {},
   "outputs": [
    {
     "data": {
      "text/plain": [
       "['PRIYA ', 'KUMARI', 'RAJNI', 'GYAN', 'PRAKASH', 'KUSHWAHA']"
      ]
     },
     "execution_count": 13,
     "metadata": {},
     "output_type": "execute_result"
    }
   ],
   "source": [
    "[i.upper() for i in p1]"
   ]
  },
  {
   "cell_type": "code",
   "execution_count": 14,
   "id": "6108a88d",
   "metadata": {},
   "outputs": [
    {
     "data": {
      "text/plain": [
       "list"
      ]
     },
     "execution_count": 14,
     "metadata": {},
     "output_type": "execute_result"
    }
   ],
   "source": [
    "type(p1)"
   ]
  },
  {
   "cell_type": "code",
   "execution_count": 15,
   "id": "13368c03",
   "metadata": {},
   "outputs": [
    {
     "data": {
      "text/plain": [
       "[1, 3, 4, 5, 6, 7, 8]"
      ]
     },
     "execution_count": 15,
     "metadata": {},
     "output_type": "execute_result"
    }
   ],
   "source": [
    "p"
   ]
  },
  {
   "cell_type": "code",
   "execution_count": 17,
   "id": "18857326",
   "metadata": {},
   "outputs": [
    {
     "data": {
      "text/plain": [
       "[1, 9, 16, 25, 36, 49, 64]"
      ]
     },
     "execution_count": 17,
     "metadata": {},
     "output_type": "execute_result"
    }
   ],
   "source": [
    "list(i**2 for i in p)"
   ]
  },
  {
   "cell_type": "code",
   "execution_count": 24,
   "id": "49aebd32",
   "metadata": {},
   "outputs": [],
   "source": [
    "d = {\"key1\":1 ,\"key2\" :2,\"key3\": 3, \"key4\":4}"
   ]
  },
  {
   "cell_type": "code",
   "execution_count": 25,
   "id": "311045cb",
   "metadata": {},
   "outputs": [
    {
     "data": {
      "text/plain": [
       "{'key1': 1, 'key2': 2, 'key3': 3, 'key4': 4}"
      ]
     },
     "execution_count": 25,
     "metadata": {},
     "output_type": "execute_result"
    }
   ],
   "source": [
    "d"
   ]
  },
  {
   "cell_type": "code",
   "execution_count": 28,
   "id": "e5dd875e",
   "metadata": {
    "scrolled": true
   },
   "outputs": [
    {
     "data": {
      "text/plain": [
       "dict"
      ]
     },
     "execution_count": 28,
     "metadata": {},
     "output_type": "execute_result"
    }
   ],
   "source": [
    "type(d)"
   ]
  },
  {
   "cell_type": "code",
   "execution_count": 30,
   "id": "583b3637",
   "metadata": {},
   "outputs": [
    {
     "data": {
      "text/plain": [
       "dict_items([('key1', 1), ('key2', 2), ('key3', 3), ('key4', 4)])"
      ]
     },
     "execution_count": 30,
     "metadata": {},
     "output_type": "execute_result"
    }
   ],
   "source": [
    "d.items()"
   ]
  },
  {
   "cell_type": "code",
   "execution_count": 31,
   "id": "ff723a10",
   "metadata": {},
   "outputs": [
    {
     "data": {
      "text/plain": [
       "{'key1': 1, 'key2': 4, 'key3': 9, 'key4': 16}"
      ]
     },
     "execution_count": 31,
     "metadata": {},
     "output_type": "execute_result"
    }
   ],
   "source": [
    "{k:v**2 for k,v in d.items()}"
   ]
  },
  {
   "cell_type": "code",
   "execution_count": 34,
   "id": "81b470c1",
   "metadata": {},
   "outputs": [
    {
     "data": {
      "text/plain": [
       "{'key2': 2, 'key3': 3, 'key4': 4}"
      ]
     },
     "execution_count": 34,
     "metadata": {},
     "output_type": "execute_result"
    }
   ],
   "source": [
    "{k:v for k,v in d.items() if v>1}"
   ]
  },
  {
   "cell_type": "markdown",
   "id": "6cacf7e9",
   "metadata": {},
   "source": [
    "# function"
   ]
  },
  {
   "cell_type": "code",
   "execution_count": 36,
   "id": "cef180a2",
   "metadata": {},
   "outputs": [
    {
     "name": "stdout",
     "output_type": "stream",
     "text": [
      "i am a data scientist\n"
     ]
    }
   ],
   "source": [
    "print(\"i am a data scientist\")"
   ]
  },
  {
   "cell_type": "code",
   "execution_count": 40,
   "id": "34f7aa1f",
   "metadata": {},
   "outputs": [],
   "source": [
    "p = [185,452,739,4,905,86,7,8]"
   ]
  },
  {
   "cell_type": "code",
   "execution_count": 41,
   "id": "6e45ff8c",
   "metadata": {},
   "outputs": [
    {
     "data": {
      "text/plain": [
       "8"
      ]
     },
     "execution_count": 41,
     "metadata": {},
     "output_type": "execute_result"
    }
   ],
   "source": [
    "len(p)"
   ]
  },
  {
   "cell_type": "code",
   "execution_count": 42,
   "id": "a5787a39",
   "metadata": {},
   "outputs": [
    {
     "data": {
      "text/plain": [
       "list"
      ]
     },
     "execution_count": 42,
     "metadata": {},
     "output_type": "execute_result"
    }
   ],
   "source": [
    "type(p)"
   ]
  },
  {
   "cell_type": "code",
   "execution_count": 43,
   "id": "821b169c",
   "metadata": {},
   "outputs": [
    {
     "data": {
      "text/plain": [
       "[185, 452, 739, 4, 905, 86, 7, 8]"
      ]
     },
     "execution_count": 43,
     "metadata": {},
     "output_type": "execute_result"
    }
   ],
   "source": [
    "p"
   ]
  },
  {
   "cell_type": "code",
   "execution_count": 45,
   "id": "c643829c",
   "metadata": {},
   "outputs": [],
   "source": [
    "def test ():\n",
    "    priya\n",
    "    "
   ]
  },
  {
   "cell_type": "code",
   "execution_count": 49,
   "id": "400441dd",
   "metadata": {},
   "outputs": [],
   "source": [
    "def test1():\n",
    "    print(\"this is my first hard work\")"
   ]
  },
  {
   "cell_type": "code",
   "execution_count": 50,
   "id": "3cf3859c",
   "metadata": {},
   "outputs": [
    {
     "name": "stdout",
     "output_type": "stream",
     "text": [
      "this is my first hard work\n"
     ]
    }
   ],
   "source": [
    "test1()"
   ]
  },
  {
   "cell_type": "code",
   "execution_count": 56,
   "id": "331c5b7d",
   "metadata": {},
   "outputs": [
    {
     "data": {
      "text/plain": [
       "function"
      ]
     },
     "execution_count": 56,
     "metadata": {},
     "output_type": "execute_result"
    }
   ],
   "source": [
    "type(test1)"
   ]
  },
  {
   "cell_type": "code",
   "execution_count": 52,
   "id": "44dda91b",
   "metadata": {},
   "outputs": [],
   "source": [
    "def test2():\n",
    "    return \"i will get my point\""
   ]
  },
  {
   "cell_type": "code",
   "execution_count": 54,
   "id": "1c686968",
   "metadata": {},
   "outputs": [
    {
     "data": {
      "text/plain": [
       "'i will get my point'"
      ]
     },
     "execution_count": 54,
     "metadata": {},
     "output_type": "execute_result"
    }
   ],
   "source": [
    "test2()"
   ]
  },
  {
   "cell_type": "code",
   "execution_count": 55,
   "id": "c6aa91c7",
   "metadata": {},
   "outputs": [
    {
     "data": {
      "text/plain": [
       "'i will get my pointAs a data scientist'"
      ]
     },
     "execution_count": 55,
     "metadata": {},
     "output_type": "execute_result"
    }
   ],
   "source": [
    "test2() + \" As a data scientist\""
   ]
  },
  {
   "cell_type": "code",
   "execution_count": 57,
   "id": "544800db",
   "metadata": {},
   "outputs": [
    {
     "data": {
      "text/plain": [
       "function"
      ]
     },
     "execution_count": 57,
     "metadata": {},
     "output_type": "execute_result"
    }
   ],
   "source": [
    "type(test2)"
   ]
  },
  {
   "cell_type": "code",
   "execution_count": 68,
   "id": "661f7952",
   "metadata": {},
   "outputs": [],
   "source": [
    "def test3():\n",
    "    return \"priya\",767352,75894,534,[1,2,3,4,5,6,7,8,9],(2,4,45,6,7),{1,2,3,4,}"
   ]
  },
  {
   "cell_type": "code",
   "execution_count": 69,
   "id": "f6a58c9f",
   "metadata": {},
   "outputs": [
    {
     "data": {
      "text/plain": [
       "('priya',\n",
       " 767352,\n",
       " 75894,\n",
       " 534,\n",
       " [1, 2, 3, 4, 5, 6, 7, 8, 9],\n",
       " (2, 4, 45, 6, 7),\n",
       " {1, 2, 3, 4})"
      ]
     },
     "execution_count": 69,
     "metadata": {},
     "output_type": "execute_result"
    }
   ],
   "source": [
    "test3()"
   ]
  },
  {
   "cell_type": "code",
   "execution_count": 71,
   "id": "e939328e",
   "metadata": {},
   "outputs": [],
   "source": [
    "a,b,c,d,e,f,g = test3()"
   ]
  },
  {
   "cell_type": "code",
   "execution_count": 72,
   "id": "e9e0b027",
   "metadata": {},
   "outputs": [
    {
     "data": {
      "text/plain": [
       "'priya'"
      ]
     },
     "execution_count": 72,
     "metadata": {},
     "output_type": "execute_result"
    }
   ],
   "source": [
    "a"
   ]
  },
  {
   "cell_type": "code",
   "execution_count": 73,
   "id": "283d2020",
   "metadata": {},
   "outputs": [
    {
     "data": {
      "text/plain": [
       "767352"
      ]
     },
     "execution_count": 73,
     "metadata": {},
     "output_type": "execute_result"
    }
   ],
   "source": [
    "b"
   ]
  },
  {
   "cell_type": "code",
   "execution_count": 74,
   "id": "47dd1db3",
   "metadata": {},
   "outputs": [
    {
     "data": {
      "text/plain": [
       "75894"
      ]
     },
     "execution_count": 74,
     "metadata": {},
     "output_type": "execute_result"
    }
   ],
   "source": [
    "c"
   ]
  },
  {
   "cell_type": "code",
   "execution_count": 75,
   "id": "8419b46f",
   "metadata": {},
   "outputs": [
    {
     "data": {
      "text/plain": [
       "534"
      ]
     },
     "execution_count": 75,
     "metadata": {},
     "output_type": "execute_result"
    }
   ],
   "source": [
    "d"
   ]
  },
  {
   "cell_type": "code",
   "execution_count": 76,
   "id": "94032459",
   "metadata": {},
   "outputs": [
    {
     "data": {
      "text/plain": [
       "[1, 2, 3, 4, 5, 6, 7, 8, 9]"
      ]
     },
     "execution_count": 76,
     "metadata": {},
     "output_type": "execute_result"
    }
   ],
   "source": [
    "e"
   ]
  },
  {
   "cell_type": "code",
   "execution_count": 77,
   "id": "b94ec448",
   "metadata": {},
   "outputs": [
    {
     "data": {
      "text/plain": [
       "(2, 4, 45, 6, 7)"
      ]
     },
     "execution_count": 77,
     "metadata": {},
     "output_type": "execute_result"
    }
   ],
   "source": [
    "f"
   ]
  },
  {
   "cell_type": "code",
   "execution_count": 78,
   "id": "61222307",
   "metadata": {},
   "outputs": [
    {
     "data": {
      "text/plain": [
       "{1, 2, 3, 4}"
      ]
     },
     "execution_count": 78,
     "metadata": {},
     "output_type": "execute_result"
    }
   ],
   "source": [
    "g"
   ]
  },
  {
   "cell_type": "code",
   "execution_count": 86,
   "id": "1b5681d4",
   "metadata": {},
   "outputs": [],
   "source": [
    "def test4 ():\n",
    "    a =(5+3)/2\n",
    "    return a "
   ]
  },
  {
   "cell_type": "code",
   "execution_count": 87,
   "id": "c83ffcd2",
   "metadata": {},
   "outputs": [
    {
     "data": {
      "text/plain": [
       "4.0"
      ]
     },
     "execution_count": 87,
     "metadata": {},
     "output_type": "execute_result"
    }
   ],
   "source": [
    "test4()"
   ]
  },
  {
   "cell_type": "code",
   "execution_count": 108,
   "id": "96525815",
   "metadata": {},
   "outputs": [],
   "source": [
    "def test5 (a,b,c):\n",
    "    d = (a+b)/c\n",
    "    return d"
   ]
  },
  {
   "cell_type": "code",
   "execution_count": 99,
   "id": "437f1a72",
   "metadata": {},
   "outputs": [
    {
     "data": {
      "text/plain": [
       "1.5"
      ]
     },
     "execution_count": 99,
     "metadata": {},
     "output_type": "execute_result"
    }
   ],
   "source": [
    "test5(3,3,4)"
   ]
  },
  {
   "cell_type": "code",
   "execution_count": 100,
   "id": "641dc81d",
   "metadata": {},
   "outputs": [],
   "source": [
    "def test6 (a,b):\n",
    "    return a+b"
   ]
  },
  {
   "cell_type": "code",
   "execution_count": 105,
   "id": "f524f8f8",
   "metadata": {},
   "outputs": [
    {
     "data": {
      "text/plain": [
       "8"
      ]
     },
     "execution_count": 105,
     "metadata": {},
     "output_type": "execute_result"
    }
   ],
   "source": [
    "test6(5,3)"
   ]
  },
  {
   "cell_type": "code",
   "execution_count": 106,
   "id": "dee43e98",
   "metadata": {},
   "outputs": [
    {
     "data": {
      "text/plain": [
       "'priyakushwaha'"
      ]
     },
     "execution_count": 106,
     "metadata": {},
     "output_type": "execute_result"
    }
   ],
   "source": [
    "test6 (\"priya\",\"kushwaha\")"
   ]
  },
  {
   "cell_type": "code",
   "execution_count": 107,
   "id": "1939cf8b",
   "metadata": {},
   "outputs": [
    {
     "data": {
      "text/plain": [
       "function"
      ]
     },
     "execution_count": 107,
     "metadata": {},
     "output_type": "execute_result"
    }
   ],
   "source": [
    "type(test6)"
   ]
  },
  {
   "cell_type": "code",
   "execution_count": 127,
   "id": "6818c6d3",
   "metadata": {},
   "outputs": [],
   "source": [
    "def test7(*args):\n",
    "    return args"
   ]
  },
  {
   "cell_type": "code",
   "execution_count": 132,
   "id": "93d157f9",
   "metadata": {},
   "outputs": [
    {
     "data": {
      "text/plain": [
       "str"
      ]
     },
     "execution_count": 132,
     "metadata": {},
     "output_type": "execute_result"
    }
   ],
   "source": [
    "type (str(test7))"
   ]
  },
  {
   "cell_type": "code",
   "execution_count": 113,
   "id": "e147592e",
   "metadata": {},
   "outputs": [],
   "source": [
    "def test8(*priya):\n",
    "    return priya"
   ]
  },
  {
   "cell_type": "code",
   "execution_count": 114,
   "id": "86d8d617",
   "metadata": {},
   "outputs": [
    {
     "data": {
      "text/plain": [
       "(1, 2, 3, 4, 5)"
      ]
     },
     "execution_count": 114,
     "metadata": {},
     "output_type": "execute_result"
    }
   ],
   "source": [
    "test8(1,2,3,4,5,)"
   ]
  },
  {
   "cell_type": "code",
   "execution_count": 115,
   "id": "59976c55",
   "metadata": {},
   "outputs": [],
   "source": [
    "def test9 (**kwargs):\n",
    "    return kwargs"
   ]
  },
  {
   "cell_type": "code",
   "execution_count": 120,
   "id": "b8a92010",
   "metadata": {},
   "outputs": [
    {
     "data": {
      "text/plain": [
       "{}"
      ]
     },
     "execution_count": 120,
     "metadata": {},
     "output_type": "execute_result"
    }
   ],
   "source": [
    "test9()"
   ]
  },
  {
   "cell_type": "code",
   "execution_count": 123,
   "id": "7f030821",
   "metadata": {
    "scrolled": true
   },
   "outputs": [
    {
     "data": {
      "text/plain": [
       "dict"
      ]
     },
     "execution_count": 123,
     "metadata": {},
     "output_type": "execute_result"
    }
   ],
   "source": [
    "type(test9())"
   ]
  },
  {
   "cell_type": "code",
   "execution_count": 126,
   "id": "799ce061",
   "metadata": {
    "scrolled": true
   },
   "outputs": [
    {
     "ename": "SyntaxError",
     "evalue": "invalid syntax (3483955404.py, line 1)",
     "output_type": "error",
     "traceback": [
      "\u001b[1;36m  Cell \u001b[1;32mIn[126], line 1\u001b[1;36m\u001b[0m\n\u001b[1;33m    test9 (a= [1,2,3,4,5],b=)\u001b[0m\n\u001b[1;37m                            ^\u001b[0m\n\u001b[1;31mSyntaxError\u001b[0m\u001b[1;31m:\u001b[0m invalid syntax\n"
     ]
    }
   ],
   "source": [
    "test9 (a= [1,2,3,4,5],b=89)"
   ]
  },
  {
   "cell_type": "code",
   "execution_count": 117,
   "id": "a04bfe55",
   "metadata": {},
   "outputs": [],
   "source": [
    "def test10 (**priya):\n",
    "    return priya"
   ]
  },
  {
   "cell_type": "code",
   "execution_count": null,
   "id": "10bdd32b",
   "metadata": {},
   "outputs": [],
   "source": []
  }
 ],
 "metadata": {
  "kernelspec": {
   "display_name": "Python 3 (ipykernel)",
   "language": "python",
   "name": "python3"
  },
  "language_info": {
   "codemirror_mode": {
    "name": "ipython",
    "version": 3
   },
   "file_extension": ".py",
   "mimetype": "text/x-python",
   "name": "python",
   "nbconvert_exporter": "python",
   "pygments_lexer": "ipython3",
   "version": "3.11.1"
  }
 },
 "nbformat": 4,
 "nbformat_minor": 5
}
